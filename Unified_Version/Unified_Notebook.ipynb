{
 "cells": [
  {
   "cell_type": "markdown",
   "metadata": {},
   "source": [
    "# Multi-task Agents and Regularization in Procedural Video Games\n",
    "\n",
    "### Authors: Kristian S. Knudsen & Thomas R. S. Conrad\n",
    "\n",
    "This notebook acts as an interface to easily run the indiviual experiments used in our reports."
   ]
  },
  {
   "cell_type": "code",
   "execution_count": null,
   "metadata": {},
   "outputs": [],
   "source": [
    "#!pip install procgen #<-- Uncomment this line if running in Google Colab, otherwise run 'pip install procgen' on the used system"
   ]
  },
  {
   "cell_type": "markdown",
   "metadata": {},
   "source": [
    "## Regularizer Experiments\n",
    "\n",
    "Performs a baseline test, followed by testing three regularizer, with identical hyperparameters.\n",
    "The tests are performed on the 'starpilot' game.\n",
    "The training data is saved into '.csv' files, which we then plot afterwards."
   ]
  },
  {
   "cell_type": "code",
   "execution_count": null,
   "metadata": {},
   "outputs": [],
   "source": [
    "# Uncomment each test to run, recommend only running one in a row\n",
    "\n",
    "import regularizer_baseline\n",
    "\n",
    "#import regularizer_mixreg\n",
    "#import regularizer_crop\n",
    "#import regularizer_cutout"
   ]
  },
  {
   "cell_type": "markdown",
   "metadata": {},
   "source": [
    "#### Regularizer Experiments with background"
   ]
  },
  {
   "cell_type": "code",
   "execution_count": null,
   "metadata": {},
   "outputs": [],
   "source": [
    "# Uncomment each test to run, recommend only running one in a row\n",
    "\n",
    "#import regularizer_baseline_background\n",
    "\n",
    "#import regularizer_mixreg_background\n",
    "#import regularizer_crop_background\n",
    "#import regularizer_cutout_background"
   ]
  },
  {
   "cell_type": "markdown",
   "metadata": {},
   "source": [
    "## Multitasking Experiments\n",
    "Performs a baseline test, a test with MixReg regularization, and a test using a pre-trained image classification network to classify which game is being played, as additional input for the final dense network layer.\n",
    "The tests are performed on the 'starpilot', 'coinrun' and 'bigfish' games.\n",
    "The training data is saved into '.csv' files, which we then plot afterwards."
   ]
  },
  {
   "cell_type": "code",
   "execution_count": null,
   "metadata": {},
   "outputs": [],
   "source": [
    "# Uncomment each test to run, recommend only running one in a row\n",
    "\n",
    "#import multiple_simple\n",
    "#import multiple_mixreg\n",
    "#import multiple_classify"
   ]
  }
 ],
 "metadata": {
  "kernelspec": {
   "display_name": "Python 3",
   "language": "python",
   "name": "python3"
  },
  "language_info": {
   "codemirror_mode": {
    "name": "ipython",
    "version": 3
   },
   "file_extension": ".py",
   "mimetype": "text/x-python",
   "name": "python",
   "nbconvert_exporter": "python",
   "pygments_lexer": "ipython3",
   "version": "3.9.1"
  }
 },
 "nbformat": 4,
 "nbformat_minor": 4
}
