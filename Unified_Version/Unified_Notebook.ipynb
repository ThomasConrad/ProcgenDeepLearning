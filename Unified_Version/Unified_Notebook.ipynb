{
 "cells": [
  {
   "cell_type": "markdown",
   "metadata": {},
   "source": [
    "# Multi-task Agents and Regularization in Procedural Video Games\n",
    "\n",
    "### Authors: Kristian S. Knudsen & Thomas R. S. Conrad\n",
    "\n",
    "This notebook acts as an interface to easily run the indiviual experiments used in our reports. We have set the same hyperparameters as we used when we trained it, so running this on a weaker machine might prove problematic. The training requires a Nvidia GPU to run."
   ]
  },
  {
   "cell_type": "code",
   "execution_count": null,
   "metadata": {},
   "outputs": [],
   "source": [
    "#!pip install procgen #<-- Uncomment this line if running in Google Colab, otherwise run 'pip install procgen' on the used system"
   ]
  },
  {
   "cell_type": "markdown",
   "metadata": {},
   "source": [
    "## Baseline\n",
    "\n",
    "Use this to train a baseline agent on one of the 16 procgen environments. First argument is environment name, second is batch size so that the baselines can be trained on a weaker system. We used 1024 in our testing, but the amount of environments has been decreased here to avoid memory limits."
   ]
  },
  {
   "cell_type": "code",
   "execution_count": null,
   "metadata": {},
   "outputs": [
    {
     "name": "stdout",
     "output_type": "stream",
     "text": [
      "using gpu\n",
      "Observation space: Box(0.0, 1.0, (3, 64, 64), float32)\n",
      "Action space: 15\n",
      "Step: 2048\tMean reward: 5.125\tMean validation reward: 4.375\n"
     ]
    }
   ],
   "source": [
    "import sys\n",
    "baseline_file = open(\"default_baseline.py\")\n",
    "script = baseline_file.read()\n",
    "sys.argv = [\"default_baseline.py\", \"starpilot\", \"2\"] #Change here for environment and batch size\n",
    "exec(script)\n",
    "baseline_file.close()"
   ]
  },
  {
   "cell_type": "markdown",
   "metadata": {},
   "source": [
    "### Pretrained models\n",
    "These can be run to render videos of the pretrained models and evaluate performance. We run these on less environments, to avoid memory limits."
   ]
  },
  {
   "cell_type": "code",
   "execution_count": null,
   "metadata": {},
   "outputs": [],
   "source": [
    "import sys\n",
    "baseline_file = open(\"validate_pretrained.py\")\n",
    "script = baseline_file.read()\n",
    "sys.argv = [\"validate_pretrained.py\",\"plunder\"] #Change here for environment and test/train\n",
    "exec(script)\n",
    "baseline_file.close()"
   ]
  },
  {
   "cell_type": "markdown",
   "metadata": {},
   "source": [
    "## Regularizer Experiments\n",
    "\n",
    "Tests the three rularizers, with identical hyperparameters.\n",
    "The tests are performed on the 'starpilot' game.\n",
    "The training data is saved into '.csv' files, which we then plot afterwards. These are set up with our full hyperparameters, and require a powerful machine to run."
   ]
  },
  {
   "cell_type": "code",
   "execution_count": null,
   "metadata": {},
   "outputs": [],
   "source": [
    "# Uncomment each test to run, recommend only running one in a row\n",
    "\n",
    "#import regularizer_baseline\n",
    "\n",
    "#import regularizer_mixreg\n",
    "#import regularizer_crop\n",
    "#import regularizer_cutout"
   ]
  },
  {
   "cell_type": "markdown",
   "metadata": {},
   "source": [
    "#### Regularizer Experiments with background"
   ]
  },
  {
   "cell_type": "code",
   "execution_count": null,
   "metadata": {},
   "outputs": [],
   "source": [
    "#import regularizer_baseline_background\n",
    "\n",
    "#import regularizer_mixreg_background\n",
    "#import regularizer_crop_background\n",
    "#import regularizer_cutout_background"
   ]
  },
  {
   "cell_type": "markdown",
   "metadata": {},
   "source": [
    "#### Regularizer Experiments with 10 levels"
   ]
  },
  {
   "cell_type": "code",
   "execution_count": null,
   "metadata": {},
   "outputs": [],
   "source": [
    "#import regularizer_10lvl_baseline\n",
    "\n",
    "#import regularizer_10lvl_mixreg\n",
    "#import regularizer_10lvl_crop\n",
    "#import regularizer_10lvl_cutout"
   ]
  },
  {
   "cell_type": "markdown",
   "metadata": {},
   "source": [
    "## Multitasking Experiments\n",
    "Performs a baseline test, a test with MixReg regularization, and a test using a pre-trained image classification network to classify which game is being played, as additional input for the final dense network layer.\n",
    "The tests are performed on the 'starpilot', 'coinrun' and 'bigfish' games.\n",
    "The training data is saved into '.csv' files, which we then plot afterwards. These are set up with our full hyperparameters, and require a powerful machine to run."
   ]
  },
  {
   "cell_type": "code",
   "execution_count": null,
   "metadata": {},
   "outputs": [],
   "source": [
    "#import multiple_simple\n",
    "#import multiple_mixreg\n",
    "#import multiple_classify"
   ]
  },
  {
   "cell_type": "markdown",
   "metadata": {},
   "source": [
    "## Plotting results"
   ]
  },
  {
   "cell_type": "code",
   "execution_count": null,
   "metadata": {},
   "outputs": [],
   "source": [
    "from plotting import plot_training_data"
   ]
  },
  {
   "cell_type": "code",
   "execution_count": null,
   "metadata": {},
   "outputs": [],
   "source": [
    "plot_training_data(\"stats/training_stats.csv\", \"plots/base.png\", \"StarPilot\", 3)\n",
    "plot_training_data(\"stats/training_stats_background.csv\", \"plots/back.png\", \"StarPilot w/ background\", 3)\n",
    "plot_training_data(\"stats/training_stats_10.csv\", \"plots/base_10.png\", \"StarPilot w/ 10 levels\", 3)\n",
    "\n",
    "plot_training_data(\"stats/training_stats_mixreg.csv\", \"plots/mixreg.png\", \"StarPilot - MixReg\", 3)\n",
    "plot_training_data(\"stats/training_stats_mixreg_background.csv\", \"plots/mixreg_back.png\", \"StarPilot w/ background - MixReg\", 3)\n",
    "plot_training_data(\"stats/training_stats_10_mixreg.csv\", \"plots/mixreg_10.png\", \"StarPilot w/ 10 levels - MixReg\", 3)\n",
    "\n",
    "plot_training_data(\"stats/training_stats_crop.csv\", \"plots/crop.png\", \"StarPilot - Crop\", 3)\n",
    "plot_training_data(\"stats/training_stats_crop_background.csv\", \"plots/crop_back.png\", \"StarPilot w/ background - Crop\", 3)\n",
    "plot_training_data(\"stats/training_stats_10_crop.csv\", \"plots/crop_10.png\", \"StarPilot w/ 10 levels - Crop\", 3)\n",
    "\n",
    "plot_training_data(\"stats/training_stats_cutout.csv\", \"plots/cutout.png\", \"StarPilot - Cutout\", 3)\n",
    "plot_training_data(\"stats/training_stats_cutout_background.csv\", \"plots/cutout_back.png\", \"StarPilot w/ background - Cutout\", 3)\n",
    "plot_training_data(\"stats/training_stats_10_cutout.csv\", \"plots/cutout_10.png\", \"StarPilot w/ 10 levels - Cutout\", 3)"
   ]
  }
 ],
 "metadata": {
  "kernelspec": {
   "display_name": "Python 3",
   "language": "python",
   "name": "python3"
  },
  "language_info": {
   "codemirror_mode": {
    "name": "ipython",
    "version": 3
   },
   "file_extension": ".py",
   "mimetype": "text/x-python",
   "name": "python",
   "nbconvert_exporter": "python",
   "pygments_lexer": "ipython3",
   "version": "3.8.3"
  }
 },
 "nbformat": 4,
 "nbformat_minor": 4
}
