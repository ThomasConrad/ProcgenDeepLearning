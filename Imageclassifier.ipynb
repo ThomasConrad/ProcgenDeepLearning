{
 "cells": [
  {
   "cell_type": "markdown",
   "metadata": {},
   "source": [
    "# Game classification network\n"
   ]
  },
  {
   "cell_type": "markdown",
   "metadata": {},
   "source": [
    "#### view frame"
   ]
  },
  {
   "cell_type": "code",
   "execution_count": 1,
   "metadata": {},
   "outputs": [
    {
     "data": {
      "text/plain": [
       "<matplotlib.image.AxesImage at 0x2943391bcd0>"
      ]
     },
     "execution_count": 1,
     "metadata": {},
     "output_type": "execute_result"
    },
    {
     "data": {
      "image/png": "[encoded data removed]",
      "text/plain": [
       "<Figure size 432x288 with 1 Axes>"
      ]
     },
     "metadata": {
      "needs_background": "light"
     },
     "output_type": "display_data"
    }
   ],
   "source": [
    "from PIL import Image\n",
    "from matplotlib import pyplot as plt\n",
    "from utils import make_env, Storage, orthogonal_init\n",
    "\n",
    "env = make_env(1, num_levels=1,env_name='coinrun')\n",
    "ob = env.reset()\n",
    "img = ob[0].permute(1,2,0).numpy()\n",
    "plt.imshow(img)"
   ]
  },
  {
   "cell_type": "markdown",
   "metadata": {},
   "source": [
    "## Generate images"
   ]
  },
  {
   "cell_type": "code",
   "execution_count": 2,
   "metadata": {},
   "outputs": [],
   "source": [
    "import argparse\n",
    "import sys\n",
    "from utils import make_env, Storage, orthogonal_init\n",
    "import gym\n",
    "import os\n",
    "import numpy as np\n",
    "from gym import wrappers, logger\n",
    "from PIL import Image\n",
    "import pickle as pkl\n",
    "from matplotlib import pyplot as plt\n",
    "import torchvision\n",
    "import torchvision.transforms as transforms\n",
    "import torch\n",
    "\n",
    "class RandomAgent(object):\n",
    "    \"\"\"The world's simplest agent!\"\"\"\n",
    "    def __init__(self, action_space):\n",
    "        self.action_space = action_space\n",
    "\n",
    "    def act(self, observation, reward, done):\n",
    "        return self.action_space.sample()\n",
    "    \n",
    "num_envs = 1\n",
    "num_steps = 256\n",
    "num_levels = 100\n",
    "env_names = ['bigfish', 'bossfight', 'caveflyer', 'chaser', 'climber', 'coinrun', 'dodgeball', 'fruitbot', 'heist', 'jumper', 'leaper', 'maze', 'miner', 'ninja', 'plunder', 'starpilot',]"
   ]
  },
  {
   "cell_type": "code",
   "execution_count": 3,
   "metadata": {},
   "outputs": [
    {
     "name": "stdout",
     "output_type": "stream",
     "text": [
      "doing bigfish\n",
      "doing bossfight\n",
      "doing caveflyer\n",
      "doing chaser\n",
      "doing climber\n",
      "doing coinrun\n",
      "doing dodgeball\n",
      "doing fruitbot\n",
      "doing heist\n",
      "doing jumper\n",
      "doing leaper\n",
      "doing maze\n",
      "doing miner\n",
      "doing ninja\n",
      "doing plunder\n",
      "doing starpilot\n",
      "(13115, 3, 64, 64)\n"
     ]
    }
   ],
   "source": [
    "episode_count = 5\n",
    "labels = np.empty(num_steps*len(env_names)*episode_count)\n",
    "data = np.empty((num_steps*len(env_names)*episode_count,3,64,64))\n",
    "counter = -1\n",
    "for j,env_name in enumerate(env_names):\n",
    "    print(f\"doing {env_name}\")\n",
    "    env = make_env(num_envs, num_levels=num_levels,env_name=env_name)\n",
    "\n",
    "    agent = RandomAgent(env.action_space)\n",
    "\n",
    "    \n",
    "    reward = 0\n",
    "    done = False\n",
    "    ob = env.reset()\n",
    "    for i in range(episode_count):\n",
    "        for step in range(num_steps):\n",
    "            action = np.array([agent.act(ob, reward, done)])\n",
    "            ob, reward, done, _ = env.step(action)\n",
    "            img = ob.numpy()\n",
    "            counter += 1\n",
    "            data[counter] = img\n",
    "            labels[counter] = j\n",
    "            if done:\n",
    "                break\n",
    "    env.close()\n",
    "data = data[0:counter-1]\n",
    "labels = labels[0:counter-1]\n",
    "print(data.shape)\n",
    "with open('data.pkl','wb') as f:\n",
    "    pkl.dump(data,f)\n",
    "with open('datalabels.pkl','wb') as f:\n",
    "    pkl.dump(labels,f)"
   ]
  },
  {
   "cell_type": "code",
   "execution_count": 4,
   "metadata": {},
   "outputs": [],
   "source": [
    "with open('data.pkl','rb') as f:\n",
    "    data = pkl.load(f)\n",
    "with open('datalabels.pkl','rb') as f:\n",
    "    labels = pkl.load(f)"
   ]
  },
  {
   "cell_type": "markdown",
   "metadata": {},
   "source": [
    "## Setup training and test sets"
   ]
  },
  {
   "cell_type": "code",
   "execution_count": 5,
   "metadata": {},
   "outputs": [
    {
     "name": "stdout",
     "output_type": "stream",
     "text": [
      "# Training data\n",
      "Number of points: 10492\n",
      "# Validation data\n",
      "Number of points: 2623\n"
     ]
    }
   ],
   "source": [
    "# CUDA for PyTorch\n",
    "from torch.utils.data import TensorDataset, DataLoader\n",
    "from sklearn.model_selection import train_test_split\n",
    "\n",
    "use_cuda = torch.cuda.is_available()\n",
    "device = torch.device(\"cuda:0\" if use_cuda else \"cpu\")\n",
    "torch.backends.cudnn.benchmark = True\n",
    "\n",
    "# Parameters\n",
    "max_epochs = 5\n",
    "batch_size = 6\n",
    "# Datasets\n",
    "X_train, X_test, y_train, y_test = train_test_split(data, labels, test_size=0.2, random_state=42)\n",
    "# Generators\n",
    "training_set = TensorDataset(torch.Tensor(X_train), torch.Tensor(y_train))\n",
    "trainloader = torch.utils.data.DataLoader(training_set, batch_size=batch_size,shuffle=True, num_workers=2)\n",
    "\n",
    "validation_set = TensorDataset(torch.Tensor(X_test), torch.Tensor(y_test))\n",
    "testloader = torch.utils.data.DataLoader(validation_set, batch_size=batch_size,shuffle=True, num_workers=2)\n",
    "\n",
    "print(\"# Training data\")\n",
    "print(\"Number of points:\", len(training_set))\n",
    "print(\"# Validation data\")\n",
    "print(\"Number of points:\", len(validation_set))\n"
   ]
  },
  {
   "cell_type": "markdown",
   "metadata": {},
   "source": [
    "### Define CNN"
   ]
  },
  {
   "cell_type": "code",
   "execution_count": 6,
   "metadata": {},
   "outputs": [
    {
     "name": "stdout",
     "output_type": "stream",
     "text": [
      "##converting network to cuda-enabled\n",
      "Net(\n",
      "  (conv_1): Conv2d(3, 32, kernel_size=(5, 5), stride=(1, 1), padding=(2, 2))\n",
      "  (batchnorm1): BatchNorm2d(32, eps=1e-05, momentum=0.1, affine=True, track_running_stats=True)\n",
      "  (conv_2): Conv2d(32, 64, kernel_size=(5, 5), stride=(1, 1), padding=(2, 2))\n",
      "  (batchnorm2): BatchNorm2d(64, eps=1e-05, momentum=0.1, affine=True, track_running_stats=True)\n",
      "  (maxpool): MaxPool2d(kernel_size=2, stride=2, padding=0, dilation=1, ceil_mode=False)\n",
      "  (conv2_drop): Dropout2d(p=0.5, inplace=False)\n",
      "  (dense): Linear(in_features=65536, out_features=50, bias=True)\n",
      "  (dropout): Dropout(p=0.5, inplace=False)\n",
      "  (dense_out): Linear(in_features=50, out_features=16, bias=False)\n",
      ")\n"
     ]
    }
   ],
   "source": [
    "from torch.autograd import Variable\n",
    "import torch.nn as nn\n",
    "import torch.nn.functional as F\n",
    "\n",
    "class Net(nn.Module):\n",
    "    def __init__(self, input_channels, input_height, input_width, num_classes):\n",
    "        super(Net, self).__init__()\n",
    "        self.num_classes = num_classes\n",
    "        \n",
    "        self.conv_1 = nn.Conv2d(in_channels=input_channels,\n",
    "                            out_channels=32,\n",
    "                            kernel_size=5, \n",
    "                            padding=2)\n",
    "        self.batchnorm1 = nn.BatchNorm2d(32)\n",
    "        self.conv_2 = nn.Conv2d(in_channels=32, \n",
    "                            out_channels=64,\n",
    "                            kernel_size=5, \n",
    "                            padding=2)\n",
    "        self.batchnorm2 = nn.BatchNorm2d(64)\n",
    "        self.maxpool = nn.MaxPool2d(kernel_size=2, stride=2)\n",
    "        \n",
    "        \n",
    "        self.conv2_drop = nn.Dropout2d()\n",
    "\n",
    "        self.dense_features = 64 * input_height//2 * input_width//2\n",
    "        self.dense = nn.Linear(in_features=self.dense_features, \n",
    "                                out_features=50,\n",
    "                                bias=True)\n",
    "        self.dropout = nn.Dropout(p=0.5)\n",
    "        \n",
    "        self.dense_out = nn.Linear(in_features=50,\n",
    "                             out_features=num_classes,\n",
    "                                bias=False)\n",
    "\n",
    "    def forward(self, x):\n",
    "        x = F.relu(self.conv_1(x))\n",
    "        x = self.batchnorm1(x)\n",
    "        x = F.relu(self.conv_2(x))\n",
    "        x = self.batchnorm2(x)\n",
    "        x = self.maxpool(x)\n",
    "\n",
    "        x = self.conv2_drop(x)\n",
    "        x = x.view(-1, self.dense_features)\n",
    "        x = F.relu(self.dense(x))\n",
    "\n",
    "        return F.log_softmax(self.dense_out(x), dim=1)\n",
    "    \n",
    "X_train, X_test, y_train, y_test\n",
    "net = Net(3,64,64,len(env_names))\n",
    "if torch.cuda.is_available():\n",
    "    print('##converting network to cuda-enabled')\n",
    "    net.cuda()\n",
    "print(net)"
   ]
  },
  {
   "cell_type": "code",
   "execution_count": 7,
   "metadata": {},
   "outputs": [],
   "source": [
    "import torch.optim as optim\n",
    "\n",
    "criterion = nn.CrossEntropyLoss()\n",
    "optimizer = optim.SGD(net.parameters(), momentum=0.8, lr=0.001)\n",
    "\n",
    "def get_variable(x):\n",
    "    \"\"\" Converts tensors to cuda, if available. \"\"\"\n",
    "    if torch.cuda.is_available():\n",
    "        return x.cuda()\n",
    "    return x"
   ]
  },
  {
   "cell_type": "markdown",
   "metadata": {},
   "source": [
    "### Training loop"
   ]
  },
  {
   "cell_type": "code",
   "execution_count": 8,
   "metadata": {},
   "outputs": [
    {
     "name": "stdout",
     "output_type": "stream",
     "text": [
      "[1,   100] train loss: 0.5235\n",
      "[1,   200] train loss: 0.1750\n",
      "[1,   300] train loss: 0.1188\n",
      "[1,   400] train loss: 0.0770\n",
      "[1,   500] train loss: 0.0906\n",
      "[1,   600] train loss: 0.0624\n",
      "[1,   700] train loss: 0.0409\n",
      "[1,   800] train loss: 0.0402\n",
      "[1,   900] train loss: 0.0407\n",
      "[1,  1000] train loss: 0.0447\n",
      "[1,  1100] train loss: 0.0166\n",
      "[1,  1200] train loss: 0.0252\n",
      "[1,  1300] train loss: 0.0367\n",
      "[1,  1400] train loss: 0.0388\n",
      "[1,  1500] train loss: 0.0387\n",
      "[1,  1600] train loss: 0.0084\n",
      "[1,  1700] train loss: 0.0124\n",
      "[2,   100] train loss: 0.0066\n",
      "[2,   200] train loss: 0.0055\n",
      "[2,   300] train loss: 0.0259\n",
      "[2,   400] train loss: 0.0111\n",
      "[2,   500] train loss: 0.0021\n",
      "[2,   600] train loss: 0.0042\n",
      "[2,   700] train loss: 0.0046\n",
      "[2,   800] train loss: 0.0033\n",
      "[2,   900] train loss: 0.0029\n",
      "[2,  1000] train loss: 0.0016\n",
      "[2,  1100] train loss: 0.0020\n",
      "[2,  1200] train loss: 0.0012\n",
      "[2,  1300] train loss: 0.0017\n",
      "[2,  1400] train loss: 0.0017\n",
      "[2,  1500] train loss: 0.0024\n",
      "[2,  1600] train loss: 0.0015\n",
      "[2,  1700] train loss: 0.0022\n",
      "[3,   100] train loss: 0.0008\n",
      "[3,   200] train loss: 0.0006\n",
      "[3,   300] train loss: 0.0010\n",
      "[3,   400] train loss: 0.0021\n",
      "[3,   500] train loss: 0.0007\n",
      "[3,   600] train loss: 0.0007\n",
      "[3,   700] train loss: 0.0009\n",
      "[3,   800] train loss: 0.0008\n",
      "[3,   900] train loss: 0.0018\n",
      "[3,  1000] train loss: 0.0037\n",
      "[3,  1100] train loss: 0.0012\n",
      "[3,  1200] train loss: 0.0007\n",
      "[3,  1300] train loss: 0.0007\n",
      "[3,  1400] train loss: 0.0015\n",
      "[3,  1500] train loss: 0.0003\n",
      "[3,  1600] train loss: 0.0016\n",
      "[3,  1700] train loss: 0.0023\n",
      "[4,   100] train loss: 0.0026\n",
      "[4,   200] train loss: 0.0008\n",
      "[4,   300] train loss: 0.0010\n",
      "[4,   400] train loss: 0.0005\n",
      "[4,   500] train loss: 0.0009\n",
      "[4,   600] train loss: 0.0008\n",
      "[4,   700] train loss: 0.0006\n",
      "[4,   800] train loss: 0.0005\n",
      "[4,   900] train loss: 0.0004\n",
      "[4,  1000] train loss: 0.0004\n",
      "[4,  1100] train loss: 0.0004\n",
      "[4,  1200] train loss: 0.0003\n",
      "[4,  1300] train loss: 0.0009\n",
      "[4,  1400] train loss: 0.0012\n",
      "[4,  1500] train loss: 0.0004\n",
      "[4,  1600] train loss: 0.0002\n",
      "[4,  1700] train loss: 0.0003\n",
      "[5,   100] train loss: 0.0003\n",
      "[5,   200] train loss: 0.0004\n",
      "[5,   300] train loss: 0.0003\n",
      "[5,   400] train loss: 0.0003\n",
      "[5,   500] train loss: 0.0002\n",
      "[5,   600] train loss: 0.0007\n",
      "[5,   700] train loss: 0.0003\n",
      "[5,   800] train loss: 0.0004\n",
      "[5,   900] train loss: 0.0003\n",
      "[5,  1000] train loss: 0.0002\n",
      "[5,  1100] train loss: 0.0003\n",
      "[5,  1200] train loss: 0.0002\n",
      "[5,  1300] train loss: 0.0002\n",
      "[5,  1400] train loss: 0.0007\n",
      "[5,  1500] train loss: 0.0004\n",
      "[5,  1600] train loss: 0.0005\n",
      "[5,  1700] train loss: 0.0004\n",
      "Completed training!\n"
     ]
    }
   ],
   "source": [
    "# Loop over epochs\n",
    "for epoch in range(max_epochs):\n",
    "    # Training\n",
    "    running_loss = 0.0\n",
    "    i = 0\n",
    "    for inputs, labels in trainloader:\n",
    "        # Transfer to GPU\n",
    "        labels = labels.long()\n",
    "        inputs, labels = get_variable(Variable(inputs)), get_variable(Variable(labels))\n",
    "        # zero the parameter gradients\n",
    "        optimizer.zero_grad()\n",
    "\n",
    "        # forward + backward + optimize\n",
    "        output = net(inputs)\n",
    "        loss = criterion(output, labels)\n",
    "        loss.backward()\n",
    "        optimizer.step()\n",
    "\n",
    "\n",
    "        # print statistics\n",
    "        running_loss += loss.data.item()\n",
    "        if i % 100 == 99:    # print every 1000 mini-batches\n",
    "            print('[%d, %5d] train loss: %.4f' %\n",
    "                  (epoch + 1, i + 1, running_loss / 100))\n",
    "            running_loss = 0.0\n",
    "        i += 1\n",
    "\n",
    "print('Completed training!')\n",
    "torch.save(net.state_dict, 'TrainedClassifier.pt')"
   ]
  },
  {
   "cell_type": "code",
   "execution_count": 16,
   "metadata": {},
   "outputs": [],
   "source": [
    "torch.save(net.state_dict, 'TrainedClassifier.pt')"
   ]
  },
  {
   "cell_type": "markdown",
   "metadata": {},
   "source": [
    "### Analyze training results"
   ]
  },
  {
   "cell_type": "code",
   "execution_count": 9,
   "metadata": {},
   "outputs": [
    {
     "data": {
      "image/png": "[encoded data removed]",
      "text/plain": [
       "<Figure size 432x288 with 1 Axes>"
      ]
     },
     "metadata": {
      "needs_background": "light"
     },
     "output_type": "display_data"
    },
    {
     "name": "stdout",
     "output_type": "stream",
     "text": [
      "GroundTruth:   leaper  maze caveflyer jumper climber  maze\n",
      "Predicted:     leaper  maze caveflyer jumper climber  maze\n"
     ]
    }
   ],
   "source": [
    "images, labels = iter(testloader).next()\n",
    "labels = labels.int()\n",
    "def imshow(img):\n",
    "    \"\"\" show an image \"\"\"\n",
    "    img = img / 2 + 0.5 # unnormalize\n",
    "    npimg = img.numpy()\n",
    "    plt.imshow(np.transpose(npimg, (1, 2, 0)))\n",
    "    \n",
    "# print images\n",
    "imshow(torchvision.utils.make_grid(images))\n",
    "plt.show()\n",
    "\n",
    "print('GroundTruth:  ', ' '.join('%5s' % env_names[labels[j]] for j in range(batch_size)))\n",
    "\n",
    "outputs = net(get_variable(images))\n",
    "_, predicted = torch.max(outputs.data, 1)\n",
    "print('Predicted:    ', ' '.join('%5s' % env_names[predicted[j]] for j in range(batch_size)))"
   ]
  },
  {
   "cell_type": "code",
   "execution_count": 10,
   "metadata": {},
   "outputs": [
    {
     "name": "stdout",
     "output_type": "stream",
     "text": [
      "Accuracy of the network on the 2623 test images: 99.81 %\n"
     ]
    }
   ],
   "source": [
    "correct = 0\n",
    "total = 0\n",
    "for data in testloader:\n",
    "    images, labels = data\n",
    "    outputs = net(get_variable(Variable(images)))\n",
    "    _, predicted = torch.max(outputs.cpu().data, 1)\n",
    "    total += labels.size(0)\n",
    "    correct += (predicted == labels).sum()\n",
    "\n",
    "print('Accuracy of the network on the {} test images: {:4.2f} %'.format(\n",
    "    len(validation_set), 100 * correct.true_divide(total)))"
   ]
  }
 ],
 "metadata": {
  "kernelspec": {
   "display_name": "Python 3",
   "language": "python",
   "name": "python3"
  },
  "language_info": {
   "codemirror_mode": {
    "name": "ipython",
    "version": 3
   },
   "file_extension": ".py",
   "mimetype": "text/x-python",
   "name": "python",
   "nbconvert_exporter": "python",
   "pygments_lexer": "ipython3",
   "version": "3.8.3"
  }
 },
 "nbformat": 4,
 "nbformat_minor": 4
}
