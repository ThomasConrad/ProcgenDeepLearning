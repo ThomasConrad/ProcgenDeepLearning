{
  "nbformat": 4,
  "nbformat_minor": 0,
  "metadata": {
    "kernelspec": {
      "display_name": "Python 3",
      "language": "python",
      "name": "python3"
    },
    "language_info": {
      "codemirror_mode": {
        "name": "ipython",
        "version": 3
      },
      "file_extension": ".py",
      "mimetype": "text/x-python",
      "name": "python",
      "nbconvert_exporter": "python",
      "pygments_lexer": "ipython3",
      "version": "3.8.3-final"
    },
    "colab": {
      "name": "Imageclassifier.ipynb",
      "provenance": [],
      "toc_visible": true
    },
    "accelerator": "GPU"
  },
  "cells": [
    {
      "cell_type": "markdown",
      "metadata": {
        "id": "D-IzZFiMPaqG"
      },
      "source": [
        "# Game classification network\n"
      ]
    },
    {
      "cell_type": "markdown",
      "metadata": {
        "id": "GxPCw_mrPxcj"
      },
      "source": [
        "### Imports"
      ]
    },
    {
      "cell_type": "code",
      "metadata": {
        "colab": {
          "base_uri": "https://localhost:8080/"
        },
        "id": "CLpBYdeXPw12",
        "outputId": "16a867e2-65b3-4840-8912-6789e7f00187"
      },
      "source": [
        "# Imports\r\n",
        "!pip install procgen\r\n",
        "!wget https://raw.githubusercontent.com/ThomasConrad/ProcgenDeepLearning/main/utils.py\r\n",
        "!wget https://raw.githubusercontent.com/ThomasConrad/ProcgenDeepLearning/main/classifier.py\r\n",
        "!wget https://raw.githubusercontent.com/ThomasConrad/ProcgenDeepLearning/main/TrainedClassifier.pt\r\n",
        "import torch\r\n",
        "import torch.nn as nn\r\n",
        "import torch.nn.functional as F\r\n",
        "from utils import make_env, Storage, orthogonal_init\r\n",
        "from classifier import Net\r\n",
        "\r\n",
        "import csv"
      ],
      "execution_count": 1,
      "outputs": [
        {
          "output_type": "stream",
          "text": [
            "Requirement already satisfied: procgen in /usr/local/lib/python3.6/dist-packages (0.10.4)\n",
            "Requirement already satisfied: filelock<4.0.0,>=3.0.0 in /usr/local/lib/python3.6/dist-packages (from procgen) (3.0.12)\n",
            "Requirement already satisfied: numpy<2.0.0,>=1.17.0 in /usr/local/lib/python3.6/dist-packages (from procgen) (1.19.4)\n",
            "Requirement already satisfied: gym<1.0.0,>=0.15.0 in /usr/local/lib/python3.6/dist-packages (from procgen) (0.17.3)\n",
            "Requirement already satisfied: gym3<1.0.0,>=0.3.3 in /usr/local/lib/python3.6/dist-packages (from procgen) (0.3.3)\n",
            "Requirement already satisfied: scipy in /usr/local/lib/python3.6/dist-packages (from gym<1.0.0,>=0.15.0->procgen) (1.4.1)\n",
            "Requirement already satisfied: pyglet<=1.5.0,>=1.4.0 in /usr/local/lib/python3.6/dist-packages (from gym<1.0.0,>=0.15.0->procgen) (1.5.0)\n",
            "Requirement already satisfied: cloudpickle<1.7.0,>=1.2.0 in /usr/local/lib/python3.6/dist-packages (from gym<1.0.0,>=0.15.0->procgen) (1.3.0)\n",
            "Requirement already satisfied: imageio-ffmpeg<0.4.0,>=0.3.0 in /usr/local/lib/python3.6/dist-packages (from gym3<1.0.0,>=0.3.3->procgen) (0.3.0)\n",
            "Requirement already satisfied: moderngl<6.0.0,>=5.5.4 in /usr/local/lib/python3.6/dist-packages (from gym3<1.0.0,>=0.3.3->procgen) (5.6.2)\n",
            "Requirement already satisfied: imageio<3.0.0,>=2.6.0 in /usr/local/lib/python3.6/dist-packages (from gym3<1.0.0,>=0.3.3->procgen) (2.9.0)\n",
            "Requirement already satisfied: glfw<2.0.0,>=1.8.6 in /usr/local/lib/python3.6/dist-packages (from gym3<1.0.0,>=0.3.3->procgen) (1.12.0)\n",
            "Requirement already satisfied: cffi<2.0.0,>=1.13.0 in /usr/local/lib/python3.6/dist-packages (from gym3<1.0.0,>=0.3.3->procgen) (1.14.4)\n",
            "Requirement already satisfied: future in /usr/local/lib/python3.6/dist-packages (from pyglet<=1.5.0,>=1.4.0->gym<1.0.0,>=0.15.0->procgen) (0.16.0)\n",
            "Requirement already satisfied: glcontext<3,>=2 in /usr/local/lib/python3.6/dist-packages (from moderngl<6.0.0,>=5.5.4->gym3<1.0.0,>=0.3.3->procgen) (2.2.0)\n",
            "Requirement already satisfied: pillow in /usr/local/lib/python3.6/dist-packages (from imageio<3.0.0,>=2.6.0->gym3<1.0.0,>=0.3.3->procgen) (7.0.0)\n",
            "Requirement already satisfied: pycparser in /usr/local/lib/python3.6/dist-packages (from cffi<2.0.0,>=1.13.0->gym3<1.0.0,>=0.3.3->procgen) (2.20)\n",
            "--2020-12-30 15:50:26--  https://raw.githubusercontent.com/ThomasConrad/ProcgenDeepLearning/main/utils.py\n",
            "Resolving raw.githubusercontent.com (raw.githubusercontent.com)... 151.101.0.133, 151.101.64.133, 151.101.128.133, ...\n",
            "Connecting to raw.githubusercontent.com (raw.githubusercontent.com)|151.101.0.133|:443... connected.\n",
            "HTTP request sent, awaiting response... 200 OK\n",
            "Length: 17786 (17K) [text/plain]\n",
            "Saving to: ‘utils.py.2’\n",
            "\n",
            "utils.py.2          100%[===================>]  17.37K  --.-KB/s    in 0s      \n",
            "\n",
            "2020-12-30 15:50:26 (112 MB/s) - ‘utils.py.2’ saved [17786/17786]\n",
            "\n",
            "--2020-12-30 15:50:26--  https://raw.githubusercontent.com/ThomasConrad/ProcgenDeepLearning/main/classifier.py\n",
            "Resolving raw.githubusercontent.com (raw.githubusercontent.com)... 151.101.0.133, 151.101.64.133, 151.101.128.133, ...\n",
            "Connecting to raw.githubusercontent.com (raw.githubusercontent.com)|151.101.0.133|:443... connected.\n",
            "HTTP request sent, awaiting response... 200 OK\n",
            "Length: 1635 (1.6K) [text/plain]\n",
            "Saving to: ‘classifier.py.2’\n",
            "\n",
            "classifier.py.2     100%[===================>]   1.60K  --.-KB/s    in 0s      \n",
            "\n",
            "2020-12-30 15:50:26 (46.4 MB/s) - ‘classifier.py.2’ saved [1635/1635]\n",
            "\n",
            "--2020-12-30 15:50:26--  https://raw.githubusercontent.com/ThomasConrad/ProcgenDeepLearning/main/TrainedClassifier.pt\n",
            "Resolving raw.githubusercontent.com (raw.githubusercontent.com)... 151.101.0.133, 151.101.64.133, 151.101.128.133, ...\n",
            "Connecting to raw.githubusercontent.com (raw.githubusercontent.com)|151.101.0.133|:443... connected.\n",
            "HTTP request sent, awaiting response... 200 OK\n",
            "Length: 13332791 (13M) [application/octet-stream]\n",
            "Saving to: ‘TrainedClassifier.pt.2’\n",
            "\n",
            "TrainedClassifier.p 100%[===================>]  12.71M  --.-KB/s    in 0.07s   \n",
            "\n",
            "2020-12-30 15:50:26 (177 MB/s) - ‘TrainedClassifier.pt.2’ saved [13332791/13332791]\n",
            "\n"
          ],
          "name": "stdout"
        }
      ]
    },
    {
      "cell_type": "markdown",
      "metadata": {
        "id": "MxAcioSMPaqM"
      },
      "source": [
        "#### view frame"
      ]
    },
    {
      "cell_type": "code",
      "metadata": {
        "colab": {
          "base_uri": "https://localhost:8080/",
          "height": 285
        },
        "id": "Sp7gjrJnPaqO",
        "outputId": "004ad657-4520-43f9-8a4b-3dbd88bf2bf3"
      },
      "source": [
        "from PIL import Image\n",
        "from matplotlib import pyplot as plt\n",
        "from utils import make_env, Storage, orthogonal_init\n",
        "\n",
        "env = make_env(1, num_levels=1,env_name='coinrun')\n",
        "ob = env.reset()\n",
        "img = ob[0].permute(1,2,0).numpy()\n",
        "plt.imshow(img)"
      ],
      "execution_count": 2,
      "outputs": [
        {
          "output_type": "execute_result",
          "data": {
            "text/plain": [
              "<matplotlib.image.AxesImage at 0x7efe045a97f0>"
            ]
          },
          "metadata": {
            "tags": []
          },
          "execution_count": 2
        },
        {
          "output_type": "display_data",
          "data": {
            "image/png": "[encoded data removed]",
            "text/plain": [
              "<Figure size 432x288 with 1 Axes>"
            ]
          },
          "metadata": {
            "tags": [],
            "needs_background": "light"
          }
        }
      ]
    },
    {
      "cell_type": "markdown",
      "metadata": {
        "id": "RMGeowEhPaqQ"
      },
      "source": [
        "## Generate images"
      ]
    },
    {
      "cell_type": "code",
      "metadata": {
        "id": "RbD6kFF-PaqR"
      },
      "source": [
        "import argparse\n",
        "import sys\n",
        "from utils import make_env, Storage, orthogonal_init\n",
        "import gym\n",
        "import os\n",
        "import numpy as np\n",
        "from gym import wrappers, logger\n",
        "from PIL import Image\n",
        "import pickle as pkl\n",
        "from matplotlib import pyplot as plt\n",
        "import torchvision\n",
        "import torchvision.transforms as transforms\n",
        "import torch\n",
        "\n",
        "class RandomAgent(object):\n",
        "    \"\"\"The world's simplest agent!\"\"\"\n",
        "    def __init__(self, action_space):\n",
        "        self.action_space = action_space\n",
        "\n",
        "    def act(self, observation, reward, done,num_envs):\n",
        "        action = []\n",
        "        for i in range(num_envs):\n",
        "            action.append(self.action_space.sample())\n",
        "        return torch.Tensor(action)\n",
        "    \n",
        "num_envs = 50\n",
        "num_steps = 256\n",
        "num_levels = 100\n",
        "#env_names = ['bigfish', 'bossfight', 'caveflyer', 'chaser', 'climber', 'coinrun', 'dodgeball', 'fruitbot', 'heist', 'jumper', 'leaper', 'maze', 'miner', 'ninja', 'plunder', 'starpilot',]\n",
        "env_names = ['bigfish','coinrun','starpilot']"
      ],
      "execution_count": 5,
      "outputs": []
    },
    {
      "cell_type": "code",
      "metadata": {
        "tags": [],
        "colab": {
          "base_uri": "https://localhost:8080/"
        },
        "id": "eCpcAn5NPaqS",
        "outputId": "fe199b7a-608d-4e30-9d8b-5c714f724e38"
      },
      "source": [
        "episode_count = 2\n",
        "labels = np.empty(num_steps*len(env_names)*episode_count*num_envs)\n",
        "data = np.empty((num_steps*len(env_names)*episode_count*num_envs,3,64,64))\n",
        "counter = -1\n",
        "for j,env_name in enumerate(env_names):\n",
        "    print(f\"doing {env_name}\")\n",
        "    env = make_env(num_envs, num_levels=num_levels,env_name=env_name)\n",
        "\n",
        "    agent = RandomAgent(env.action_space)\n",
        "    \n",
        "    reward = 0\n",
        "    done = False\n",
        "    ob = env.reset()\n",
        "    for i in range(episode_count):\n",
        "        for step in range(num_steps):\n",
        "            action = agent.act(ob, reward, done,num_envs)\n",
        "            ob, reward, done, _ = env.step(action)\n",
        "            img = ob.numpy()\n",
        "            for k in range(num_envs):\n",
        "                data[counter] = img[k]\n",
        "                labels[counter] = j\n",
        "                counter += 1\n",
        "            if done.any():\n",
        "                break\n",
        "    env.close()\n",
        "    \n",
        "data = data[0:counter]\n",
        "labels = labels[0:counter]\n",
        "with open('data.pkl','wb') as f:\n",
        "    pkl.dump(data,f)\n",
        "with open('datalabels.pkl','wb') as f:\n",
        "    pkl.dump(labels,f)"
      ],
      "execution_count": 6,
      "outputs": [
        {
          "output_type": "stream",
          "text": [
            "doing bigfish\n",
            "doing coinrun\n",
            "doing starpilot\n"
          ],
          "name": "stdout"
        }
      ]
    },
    {
      "cell_type": "markdown",
      "metadata": {
        "id": "5Gs3u4fMQjWt"
      },
      "source": [
        "#### Load if pickled already"
      ]
    },
    {
      "cell_type": "code",
      "metadata": {
        "id": "RCO-VfmnPaqT"
      },
      "source": [
        "with open('data.pkl','rb') as f:\n",
        "    data = pkl.load(f)\n",
        "with open('datalabels.pkl','rb') as f:\n",
        "    labels = pkl.load(f)"
      ],
      "execution_count": null,
      "outputs": []
    },
    {
      "cell_type": "markdown",
      "metadata": {
        "id": "VwSUzf3FPaqT"
      },
      "source": [
        "## Setup training and test sets"
      ]
    },
    {
      "cell_type": "code",
      "metadata": {
        "colab": {
          "base_uri": "https://localhost:8080/"
        },
        "id": "MXoVbnfQPaqU",
        "outputId": "95eff3ea-f8fe-45e2-dc2c-6fd4fa8d4717"
      },
      "source": [
        "# CUDA for PyTorch\n",
        "from torch.utils.data import TensorDataset, DataLoader\n",
        "from sklearn.model_selection import train_test_split\n",
        "\n",
        "use_cuda = torch.cuda.is_available()\n",
        "device = torch.device(\"cuda:0\" if use_cuda else \"cpu\")\n",
        "torch.backends.cudnn.benchmark = True\n",
        "\n",
        "# Parameters\n",
        "max_epochs = 5\n",
        "batch_size = 6\n",
        "# Datasets\n",
        "print()\n",
        "X_train, X_test, y_train, y_test = train_test_split(data, labels, test_size=0.2, random_state=42)\n",
        "# Generators\n",
        "training_set = TensorDataset(torch.Tensor(X_train), torch.Tensor(y_train))\n",
        "trainloader = torch.utils.data.DataLoader(training_set, batch_size=batch_size,shuffle=True, num_workers=2)\n",
        "\n",
        "validation_set = TensorDataset(torch.Tensor(X_test), torch.Tensor(y_test))\n",
        "testloader = torch.utils.data.DataLoader(validation_set, batch_size=batch_size,shuffle=True, num_workers=2)\n",
        "\n",
        "print(\"# Training data\")\n",
        "print(\"Number of points:\", len(training_set))\n",
        "print(\"# Validation data\")\n",
        "print(\"Number of points:\", len(validation_set))\n"
      ],
      "execution_count": 7,
      "outputs": [
        {
          "output_type": "stream",
          "text": [
            "\n",
            "# Training data\n",
            "Number of points: 7479\n",
            "# Validation data\n",
            "Number of points: 1870\n"
          ],
          "name": "stdout"
        }
      ]
    },
    {
      "cell_type": "markdown",
      "metadata": {
        "id": "REux2SGdPaqX"
      },
      "source": [
        "### Define CNN"
      ]
    },
    {
      "cell_type": "code",
      "metadata": {
        "colab": {
          "base_uri": "https://localhost:8080/"
        },
        "id": "qfmO1XeePaqX",
        "outputId": "62af6c46-28d0-42e7-825c-59a5dcaba196"
      },
      "source": [
        "from torch.autograd import Variable\n",
        "import torch.nn as nn\n",
        "import torch.nn.functional as F\n",
        "\n",
        "class Net(nn.Module):\n",
        "    def __init__(self, input_channels, input_height, input_width, num_classes):\n",
        "        super(Net, self).__init__()\n",
        "        self.num_classes = num_classes\n",
        "        \n",
        "        self.conv_1 = nn.Conv2d(in_channels=input_channels,\n",
        "                            out_channels=32,\n",
        "                            kernel_size=5, \n",
        "                            padding=2)\n",
        "        self.batchnorm1 = nn.BatchNorm2d(32)\n",
        "        self.conv_2 = nn.Conv2d(in_channels=32, \n",
        "                            out_channels=64,\n",
        "                            kernel_size=5, \n",
        "                            padding=2)\n",
        "        self.batchnorm2 = nn.BatchNorm2d(64)\n",
        "        self.maxpool = nn.MaxPool2d(kernel_size=2, stride=2)\n",
        "        \n",
        "        \n",
        "        self.conv2_drop = nn.Dropout2d()\n",
        "\n",
        "        self.dense_features = 64 * input_height//2 * input_width//2\n",
        "        self.dense = nn.Linear(in_features=self.dense_features, \n",
        "                                out_features=50,\n",
        "                                bias=True)\n",
        "        self.dropout = nn.Dropout(p=0.5)\n",
        "        \n",
        "        self.dense_out = nn.Linear(in_features=50,\n",
        "                             out_features=num_classes,\n",
        "                                bias=False)\n",
        "\n",
        "    def forward(self, x):\n",
        "        x = F.relu(self.conv_1(x))\n",
        "        x = self.batchnorm1(x)\n",
        "        x = F.relu(self.conv_2(x))\n",
        "        x = self.batchnorm2(x)\n",
        "        x = self.maxpool(x)\n",
        "\n",
        "        x = self.conv2_drop(x)\n",
        "        x = x.view(-1, self.dense_features)\n",
        "        x = F.relu(self.dense(x))\n",
        "\n",
        "        return F.log_softmax(self.dense_out(x), dim=1)\n",
        "    \n",
        "X_train, X_test, y_train, y_test\n",
        "net = Net(3,64,64,len(env_names))\n",
        "if torch.cuda.is_available():\n",
        "    print('##converting network to cuda-enabled')\n",
        "    net.cuda()\n",
        "print(net)"
      ],
      "execution_count": 8,
      "outputs": [
        {
          "output_type": "stream",
          "text": [
            "##converting network to cuda-enabled\n",
            "Net(\n",
            "  (conv_1): Conv2d(3, 32, kernel_size=(5, 5), stride=(1, 1), padding=(2, 2))\n",
            "  (batchnorm1): BatchNorm2d(32, eps=1e-05, momentum=0.1, affine=True, track_running_stats=True)\n",
            "  (conv_2): Conv2d(32, 64, kernel_size=(5, 5), stride=(1, 1), padding=(2, 2))\n",
            "  (batchnorm2): BatchNorm2d(64, eps=1e-05, momentum=0.1, affine=True, track_running_stats=True)\n",
            "  (maxpool): MaxPool2d(kernel_size=2, stride=2, padding=0, dilation=1, ceil_mode=False)\n",
            "  (conv2_drop): Dropout2d(p=0.5, inplace=False)\n",
            "  (dense): Linear(in_features=65536, out_features=50, bias=True)\n",
            "  (dropout): Dropout(p=0.5, inplace=False)\n",
            "  (dense_out): Linear(in_features=50, out_features=3, bias=False)\n",
            ")\n"
          ],
          "name": "stdout"
        }
      ]
    },
    {
      "cell_type": "code",
      "metadata": {
        "id": "Yt9qW1ldPaqb"
      },
      "source": [
        "import torch.optim as optim\n",
        "\n",
        "criterion = nn.CrossEntropyLoss()\n",
        "optimizer = optim.SGD(net.parameters(), momentum=0.8, lr=0.001)\n",
        "\n",
        "def get_variable(x):\n",
        "    \"\"\" Converts tensors to cuda, if available. \"\"\"\n",
        "    if torch.cuda.is_available():\n",
        "        return x.cuda()\n",
        "    return x"
      ],
      "execution_count": 9,
      "outputs": []
    },
    {
      "cell_type": "markdown",
      "metadata": {
        "id": "rJq5yXLKPaqc"
      },
      "source": [
        "### Training loop"
      ]
    },
    {
      "cell_type": "code",
      "metadata": {
        "colab": {
          "base_uri": "https://localhost:8080/"
        },
        "id": "A5A4Fe2aPaqc",
        "outputId": "83f7d1a9-0b6d-4041-ef00-982059143967"
      },
      "source": [
        "# Loop over epochs\n",
        "for epoch in range(max_epochs):\n",
        "    # Training\n",
        "    running_loss = 0.0\n",
        "    i = 0\n",
        "    for inputs, labels in trainloader:\n",
        "        # Transfer to GPU\n",
        "        labels = labels.long()\n",
        "        inputs, labels = get_variable(Variable(inputs)), get_variable(Variable(labels))\n",
        "        # zero the parameter gradients\n",
        "        optimizer.zero_grad()\n",
        "\n",
        "        # forward + backward + optimize\n",
        "        output = net(inputs)\n",
        "        loss = criterion(output, labels)\n",
        "        loss.backward()\n",
        "        optimizer.step()\n",
        "\n",
        "\n",
        "        # print statistics\n",
        "        running_loss += loss.data.item()\n",
        "        if i % 100 == 99:    # print every 1000 mini-batches\n",
        "            print('[%d, %5d] train loss: %.4f' %\n",
        "                  (epoch + 1, i + 1, running_loss / 100))\n",
        "            running_loss = 0.0\n",
        "        i += 1\n",
        "\n",
        "print('Completed training!')\n",
        "torch.save(net.state_dict, 'TrainedClassifier.pt')"
      ],
      "execution_count": 10,
      "outputs": [
        {
          "output_type": "stream",
          "text": [
            "[1,   100] train loss: 0.2228\n",
            "[1,   200] train loss: 0.1248\n",
            "[1,   300] train loss: 0.0424\n",
            "[1,   400] train loss: 0.0401\n",
            "[1,   500] train loss: 0.0245\n",
            "[1,   600] train loss: 0.0217\n",
            "[1,   700] train loss: 0.0173\n",
            "[1,   800] train loss: 0.0047\n",
            "[1,   900] train loss: 0.0032\n",
            "[1,  1000] train loss: 0.0020\n",
            "[1,  1100] train loss: 0.0049\n",
            "[1,  1200] train loss: 0.0049\n",
            "[2,   100] train loss: 0.0036\n",
            "[2,   200] train loss: 0.0011\n",
            "[2,   300] train loss: 0.0007\n",
            "[2,   400] train loss: 0.0007\n",
            "[2,   500] train loss: 0.0004\n",
            "[2,   600] train loss: 0.0004\n",
            "[2,   700] train loss: 0.0007\n",
            "[2,   800] train loss: 0.0003\n",
            "[2,   900] train loss: 0.0009\n",
            "[2,  1000] train loss: 0.0017\n",
            "[2,  1100] train loss: 0.0003\n",
            "[2,  1200] train loss: 0.0005\n",
            "[3,   100] train loss: 0.0003\n",
            "[3,   200] train loss: 0.0002\n",
            "[3,   300] train loss: 0.0004\n",
            "[3,   400] train loss: 0.0001\n",
            "[3,   500] train loss: 0.0020\n",
            "[3,   600] train loss: 0.0013\n",
            "[3,   700] train loss: 0.0006\n",
            "[3,   800] train loss: 0.0004\n",
            "[3,   900] train loss: 0.0003\n",
            "[3,  1000] train loss: 0.0002\n",
            "[3,  1100] train loss: 0.0005\n",
            "[3,  1200] train loss: 0.0004\n",
            "[4,   100] train loss: 0.0005\n",
            "[4,   200] train loss: 0.0005\n",
            "[4,   300] train loss: 0.0002\n",
            "[4,   400] train loss: 0.0001\n",
            "[4,   500] train loss: 0.0004\n",
            "[4,   600] train loss: 0.0001\n",
            "[4,   700] train loss: 0.0001\n",
            "[4,   800] train loss: 0.0001\n",
            "[4,   900] train loss: 0.0002\n",
            "[4,  1000] train loss: 0.0010\n",
            "[4,  1100] train loss: 0.0002\n",
            "[4,  1200] train loss: 0.0001\n",
            "[5,   100] train loss: 0.0002\n",
            "[5,   200] train loss: 0.0001\n",
            "[5,   300] train loss: 0.0001\n",
            "[5,   400] train loss: 0.0001\n",
            "[5,   500] train loss: 0.0009\n",
            "[5,   600] train loss: 0.0005\n",
            "[5,   700] train loss: 0.0010\n",
            "[5,   800] train loss: 0.0002\n",
            "[5,   900] train loss: 0.0005\n",
            "[5,  1000] train loss: 0.0001\n",
            "[5,  1100] train loss: 0.0001\n",
            "[5,  1200] train loss: 0.0000\n",
            "Completed training!\n"
          ],
          "name": "stdout"
        }
      ]
    },
    {
      "cell_type": "code",
      "metadata": {
        "id": "N2dyYZ9aPaqd"
      },
      "source": [
        "torch.save(net.state_dict(), 'TrainedClassifierMulti.pt')"
      ],
      "execution_count": 15,
      "outputs": []
    },
    {
      "cell_type": "markdown",
      "metadata": {
        "id": "vKYI2GRWPaqf"
      },
      "source": [
        "### Analyze training results"
      ]
    },
    {
      "cell_type": "code",
      "metadata": {
        "colab": {
          "base_uri": "https://localhost:8080/",
          "height": 142
        },
        "id": "ZuAvqy3jPaqf",
        "outputId": "caa3c429-c6bb-45a7-fa21-b8d561be4a36"
      },
      "source": [
        "images, labels = iter(testloader).next()\n",
        "labels = labels.int()\n",
        "def imshow(img):\n",
        "    \"\"\" show an image \"\"\"\n",
        "    img = img / 2 + 0.5 # unnormalize\n",
        "    npimg = img.numpy()\n",
        "    plt.imshow(np.transpose(npimg, (1, 2, 0)))\n",
        "    \n",
        "# print images\n",
        "imshow(torchvision.utils.make_grid(images))\n",
        "plt.show()\n",
        "\n",
        "print('GroundTruth:  ', ' '.join('%5s' % env_names[labels[j]] for j in range(batch_size)))\n",
        "\n",
        "outputs = net(get_variable(images))\n",
        "_, predicted = torch.max(outputs.data, 1)\n",
        "print('Predicted:    ', ' '.join('%5s' % env_names[predicted[j]] for j in range(batch_size)))"
      ],
      "execution_count": 12,
      "outputs": [
        {
          "output_type": "display_data",
          "data": {
            "image/png": "[encoded data removed]",
            "text/plain": [
              "<Figure size 432x288 with 1 Axes>"
            ]
          },
          "metadata": {
            "tags": [],
            "needs_background": "light"
          }
        },
        {
          "output_type": "stream",
          "text": [
            "GroundTruth:   coinrun coinrun coinrun coinrun starpilot bigfish\n",
            "Predicted:     coinrun coinrun coinrun coinrun starpilot bigfish\n"
          ],
          "name": "stdout"
        }
      ]
    },
    {
      "cell_type": "code",
      "metadata": {
        "colab": {
          "base_uri": "https://localhost:8080/"
        },
        "id": "L2WzI1IaPaqg",
        "outputId": "5a7e9913-e928-40b6-c61f-8eb5d59c000e"
      },
      "source": [
        "correct = 0\n",
        "total = 0\n",
        "for data in testloader:\n",
        "    images, labels = data\n",
        "    outputs = net(get_variable(Variable(images)))\n",
        "    _, predicted = torch.max(outputs.cpu().data, 1)\n",
        "    total += labels.size(0)\n",
        "    correct += (predicted == labels).sum()\n",
        "\n",
        "print('Accuracy of the network on the {} test images: {:4.2f} %'.format(\n",
        "    len(validation_set), 100 * correct.true_divide(total)))"
      ],
      "execution_count": 13,
      "outputs": [
        {
          "output_type": "stream",
          "text": [
            "Accuracy of the network on the 1870 test images: 99.89 %\n"
          ],
          "name": "stdout"
        }
      ]
    },
    {
      "cell_type": "code",
      "metadata": {
        "id": "2nfHIyosYZul"
      },
      "source": [
        ""
      ],
      "execution_count": null,
      "outputs": []
    }
  ]
}